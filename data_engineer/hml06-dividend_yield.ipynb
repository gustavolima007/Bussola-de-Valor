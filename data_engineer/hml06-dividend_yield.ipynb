{
 "cells": [
  {
   "cell_type": "markdown",
   "id": "14f4b047",
   "metadata": {},
   "source": []
  },
  {
   "cell_type": "markdown",
   "id": "8a322345",
   "metadata": {},
   "source": []
  },
  {
   "cell_type": "code",
   "execution_count": null,
   "id": "753309c5",
   "metadata": {
    "vscode": {
     "languageId": "plaintext"
    }
   },
   "outputs": [],
   "source": []
  }
 ],
 "metadata": {
  "language_info": {
   "name": "python"
  }
 },
 "nbformat": 4,
 "nbformat_minor": 5
}
