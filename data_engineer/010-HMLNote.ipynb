{
 "cells": [
  {
   "cell_type": "code",
   "execution_count": 1,
   "id": "f83639df",
   "metadata": {},
   "outputs": [
    {
     "name": "stderr",
     "output_type": "stream",
     "text": [
      "Exception ignored from cffi callback <function buffer_callback at 0x00000161941A7060>:\n",
      "Traceback (most recent call last):\n",
      "  File \"C:\\Users\\Atlas Core\\AppData\\Roaming\\Python\\Python313\\site-packages\\curl_cffi\\curl.py\", line 100, in buffer_callback\n",
      "    @ffi.def_extern()\n",
      "KeyboardInterrupt: \n"
     ]
    },
    {
     "ename": "",
     "evalue": "",
     "output_type": "error",
     "traceback": [
      "\u001b[1;31mNão é possível executar o código, a sessão foi descartada. Tente reiniciar o Kernel."
     ]
    },
    {
     "ename": "",
     "evalue": "",
     "output_type": "error",
     "traceback": [
      "\u001b[1;31mNão é possível executar o código, a sessão foi descartada. Tente reiniciar o Kernel. \n",
      "\u001b[1;31mConsulte o <a href='command:jupyter.viewOutput'>log</a> do Jupyter para obter mais detalhes."
     ]
    }
   ],
   "source": [
    "import requests\n",
    "import yfinance as yf\n",
    "import pandas as pd\n",
    "from deep_translator import GoogleTranslator\n",
    "import warnings\n",
    "\n",
    "warnings.simplefilter(action='ignore', category=FutureWarning)\n",
    "\n",
    "# 🌍 Função para traduzir subsetores\n",
    "def traduzir_subsetor(texto):\n",
    "    if not texto or texto == \"N/A\":\n",
    "        return \"N/A\"\n",
    "    try:\n",
    "        return GoogleTranslator(source='en', target='pt').translate(texto)\n",
    "    except Exception:\n",
    "        return texto\n",
    "\n",
    "# 🔍 Função principal\n",
    "def coletar_todos_setores_e_subsetores():\n",
    "    try:\n",
    "        resposta = requests.get(\"https://brapi.dev/api/quote/list\")\n",
    "        ativos = resposta.json().get(\"stocks\", [])\n",
    "    except Exception as e:\n",
    "        print(f\"❌ Erro ao buscar dados da API: {e}\")\n",
    "        return pd.DataFrame()\n",
    "\n",
    "    registros = []\n",
    "    for item in ativos:\n",
    "        ticker = item.get(\"stock\")\n",
    "        setor_brapi = item.get(\"sector\", \"N/A\")\n",
    "        tipo = item.get(\"type\")\n",
    "\n",
    "        # Ignorar tickers inválidos ou fundos imobiliários\n",
    "        if not ticker or ticker.endswith(\"F\") or tipo not in {\"stock\", \"fund\"}:\n",
    "            continue\n",
    "\n",
    "        ticker_formatado = f\"{ticker}.SA\"\n",
    "        try:\n",
    "            info = yf.Ticker(ticker_formatado).info\n",
    "            if info.get(\"country\") != \"Brazil\":\n",
    "                continue\n",
    "\n",
    "            subsetor_en = info.get(\"industry\", \"N/A\")\n",
    "            subsetor_pt = traduzir_subsetor(subsetor_en)\n",
    "\n",
    "            registros.append({\n",
    "                \"setor_brapi\": setor_brapi,\n",
    "                \"subsetor_yfinance\": subsetor_en,\n",
    "                \"subsetor_pt\": subsetor_pt\n",
    "            })\n",
    "        except Exception:\n",
    "            continue\n",
    "\n",
    "    df = pd.DataFrame(registros)\n",
    "    return df.drop_duplicates().reset_index(drop=True)\n",
    "\n",
    "# 🚀 Executar e exibir\n",
    "df_setores = coletar_todos_setores_e_subsetores()\n",
    "print(df_setores)\n"
   ]
  }
 ],
 "metadata": {
  "kernelspec": {
   "display_name": "Python 3",
   "language": "python",
   "name": "python3"
  },
  "language_info": {
   "codemirror_mode": {
    "name": "ipython",
    "version": 3
   },
   "file_extension": ".py",
   "mimetype": "text/x-python",
   "name": "python",
   "nbconvert_exporter": "python",
   "pygments_lexer": "ipython3",
   "version": "3.13.7"
  }
 },
 "nbformat": 4,
 "nbformat_minor": 5
}
