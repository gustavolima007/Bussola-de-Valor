{
 "cells": [
  {
   "cell_type": "markdown",
   "id": "14f4b047",
   "metadata": {},
   "source": [
    "# Dividend Yield (DY): 5 anos e 12 meses"
   ]
  },
  {
   "cell_type": "markdown",
   "id": "8a322345",
   "metadata": {},
   "source": [
    "Esse código lê dois arquivos CSV — um com os preços atuais das ações (precos_acoes.csv) e outro com o total de dividendos pagos nos últimos 5 anos e nos últimos 12 meses (dividendos_ano_resumo.csv) —, padroniza os tickers para que coincidam mesmo quando um arquivo usa sufixo .SA e o outro não, junta as informações, calcula o Dividend Yield médio dos últimos 5 anos (DY5anos) e o Dividend Yield dos últimos 12 meses (DY12M) como porcentagem sobre o preço atual, arredonda os valores, exibe os 5 primeiros resultados no console e salva um arquivo dividend_yield.csv contendo apenas as colunas ticker, DY5anos e DY12M na pasta ../data/."
   ]
  },
  {
   "cell_type": "code",
   "execution_count": 15,
   "id": "b4286774",
   "metadata": {},
   "outputs": [
    {
     "name": "stdout",
     "output_type": "stream",
     "text": [
      "     ticker  DY5anos   DY12M\n",
      "0  VIVT3.SA     3.71    3.11\n",
      "1  TIMS3.SA   305.90  379.30\n",
      "2  FIQE3.SA     3.23    2.53\n",
      "3  BRST3.SA     1.45    7.27\n",
      "4  TELB4.SA      NaN     NaN\n",
      "Arquivo salvo em: ../data/dividend_yield.csv\n"
     ]
    }
   ],
   "source": [
    "import pandas as pd\n",
    "import os\n",
    "\n",
    "# Carregar os arquivos CSV\n",
    "precos = pd.read_csv(\"../data/precos_acoes.csv\")\n",
    "div = pd.read_csv(\"../data/dividendos_ano_resumo.csv\")\n",
    "\n",
    "# Normalizar tickers para merge\n",
    "precos[\"ticker_base\"] = (\n",
    "    precos[\"ticker\"].astype(str).str.upper().str.strip().str.replace(\".SA\", \"\", regex=False)\n",
    ")\n",
    "div[\"ticker_base\"] = div[\"ticker\"].astype(str).str.upper().str.strip()\n",
    "\n",
    "# Garantir tipos numéricos\n",
    "precos[\"fechamento_atual\"] = pd.to_numeric(precos[\"fechamento_atual\"], errors=\"coerce\")\n",
    "div[\"valor_5anos\"] = pd.to_numeric(div[\"valor_5anos\"], errors=\"coerce\")\n",
    "div[\"valor_12m\"] = pd.to_numeric(div[\"valor_12m\"], errors=\"coerce\")\n",
    "\n",
    "# Merge para ter todos os tickers do arquivo de preços\n",
    "df = precos.merge(div[[\"ticker_base\", \"valor_5anos\", \"valor_12m\"]], on=\"ticker_base\", how=\"left\")\n",
    "\n",
    "# Calcular DYs\n",
    "df[\"DY5anos\"] = (((df[\"valor_5anos\"] / 5) / df[\"fechamento_atual\"]) * 100).where(df[\"fechamento_atual\"] > 0)\n",
    "df[\"DY12M\"]   = ((df[\"valor_12m\"] / df[\"fechamento_atual\"]) * 100).where(df[\"fechamento_atual\"] > 0)\n",
    "\n",
    "# Arredondar\n",
    "df[\"DY5anos\"] = df[\"DY5anos\"].round(2)\n",
    "df[\"DY12M\"] = df[\"DY12M\"].round(2)\n",
    "\n",
    "# Selecionar apenas as colunas desejadas\n",
    "df_final = df[[\"ticker\", \"DY5anos\", \"DY12M\"]]\n",
    "\n",
    "# Mostrar primeiros 5\n",
    "print(df_final.head(5))\n",
    "\n",
    "# Salvar no caminho solicitado\n",
    "os.makedirs(\"../data\", exist_ok=True)\n",
    "df_final.to_csv(\"../data/dividend_yield.csv\", index=False)\n",
    "print(\"Arquivo salvo em: ../data/dividend_yield.csv\")\n"
   ]
  }
 ],
 "metadata": {
  "kernelspec": {
   "display_name": "venv (3.13.6)",
   "language": "python",
   "name": "python3"
  },
  "language_info": {
   "codemirror_mode": {
    "name": "ipython",
    "version": 3
   },
   "file_extension": ".py",
   "mimetype": "text/x-python",
   "name": "python",
   "nbconvert_exporter": "python",
   "pygments_lexer": "ipython3",
   "version": "3.13.6"
  }
 },
 "nbformat": 4,
 "nbformat_minor": 5
}
