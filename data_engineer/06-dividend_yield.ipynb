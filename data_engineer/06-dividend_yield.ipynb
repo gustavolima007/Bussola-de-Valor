{
 "cells": [
  {
   "cell_type": "markdown",
   "id": "14f4b047",
   "metadata": {},
   "source": []
  },
  {
   "cell_type": "markdown",
   "id": "8a322345",
   "metadata": {},
   "source": []
  },
  {
   "cell_type": "code",
   "execution_count": 12,
   "id": "7470655a",
   "metadata": {},
   "outputs": [
    {
     "name": "stdout",
     "output_type": "stream",
     "text": [
      "     ticker  fechamento_atual  valor_12m  valor_5anos   DY12M  DY5anos\n",
      "118   TIMS3             22.37  84.849915   342.154002  379.30   305.90\n",
      "85    MELK3              3.37   0.978435     2.431989   29.03    14.43\n",
      "87    MOAR3            130.00  32.241685   148.679052   24.80    22.87\n",
      "52    DIRR3             13.66   1.936667     5.396154   14.18     7.90\n",
      "112   SOND6             50.01   6.271946    32.561482   12.54    13.02\n",
      "69    GEPA4             35.20   4.048288    17.357916   11.50     9.86\n",
      "111   SOND5             54.80   6.271946    32.561482   11.45    11.88\n",
      "63    EQPA3              5.76   0.658700     2.837035   11.44     9.85\n",
      "68    GEPA3             35.98   4.048288    17.357916   11.25     9.65\n",
      "9     BAZA3             73.99   8.012259    29.582096   10.83     8.00\n",
      "16    BGIP4             27.95   2.985803    11.338142   10.68     8.11\n",
      "97   RBIF11             72.11   7.430000    33.070000   10.30     9.17\n",
      "40    CMIG4             10.67   1.056537     5.750873    9.90    10.78\n",
      "74    ISAE4             21.82   2.006709     8.862058    9.20     8.12\n",
      "72   IRIM11             67.40   6.010000    46.915646    8.92    13.92\n",
      "89    MTRE3              3.53   0.302528     2.240111    8.57    12.69\n",
      "110  SNCI11             86.20   7.000000    41.723063    8.12     9.68\n",
      "32    BSLI4              9.26   0.701097     0.727881    7.57     1.57\n",
      "94    PLPL3             13.57   1.006013     2.027558    7.41     2.99\n",
      "30    BRST3              2.61   0.189773     0.189773    7.27     1.45\n"
     ]
    }
   ],
   "source": [
    "import pandas as pd\n",
    "\n",
    "# Carregar os arquivos CSV\n",
    "precos = pd.read_csv(\"../data/precos_acoes.csv\")\n",
    "div = pd.read_csv(\"../data/dividendos_ano_resumo.csv\")\n",
    "\n",
    "# Normalizar tickers para fazer o merge (remover .SA e espaços, tudo maiúsculo)\n",
    "precos[\"ticker_base\"] = (\n",
    "    precos[\"ticker\"].astype(str).str.upper().str.strip().str.replace(\".SA\", \"\", regex=False)\n",
    ")\n",
    "div[\"ticker_base\"] = div[\"ticker\"].astype(str).str.upper().str.strip()\n",
    "\n",
    "# Garantir que os numéricos estão como número\n",
    "for col in [\"fechamento_atual\"]:\n",
    "    if col in precos.columns:\n",
    "        precos[col] = pd.to_numeric(precos[col], errors=\"coerce\")\n",
    "\n",
    "for col in [\"valor_5anos\", \"valor_12m\"]:\n",
    "    if col in div.columns:\n",
    "        div[col] = pd.to_numeric(div[col], errors=\"coerce\")\n",
    "\n",
    "# Unir pelo ticker_base\n",
    "df = div.merge(precos[[\"ticker_base\", \"fechamento_atual\"]], on=\"ticker_base\", how=\"left\")\n",
    "\n",
    "# Calcular DYs (evitar divisão por zero/NaN)\n",
    "df[\"DY5anos\"] = (((df[\"valor_5anos\"] / 5) / df[\"fechamento_atual\"]) * 100).where(df[\"fechamento_atual\"] > 0)\n",
    "df[\"DY12M\"]   = ((df[\"valor_12m\"] / df[\"fechamento_atual\"]) * 100).where(df[\"fechamento_atual\"] > 0)\n",
    "\n",
    "# (Opcional) arredondar e ordenar\n",
    "df[\"DY5anos\"] = df[\"DY5anos\"].round(2)\n",
    "df[\"DY12M\"]   = df[\"DY12M\"].round(2)\n",
    "df_ordenado = df.sort_values(\"DY12M\", ascending=False)\n",
    "\n",
    "# Ver um pedaço\n",
    "print(df_ordenado.head(20)[[\"ticker\", \"fechamento_atual\", \"valor_12m\", \"valor_5anos\", \"DY12M\", \"DY5anos\"]])\n",
    "\n",
    "# Salvar se quiser\n",
    "# df_ordenado.to_csv(\"dy_resultado.csv\", index=False)\n"
   ]
  },
  {
   "cell_type": "code",
   "execution_count": 15,
   "id": "b4286774",
   "metadata": {},
   "outputs": [
    {
     "name": "stdout",
     "output_type": "stream",
     "text": [
      "     ticker  DY5anos   DY12M\n",
      "0  VIVT3.SA     3.71    3.11\n",
      "1  TIMS3.SA   305.90  379.30\n",
      "2  FIQE3.SA     3.23    2.53\n",
      "3  BRST3.SA     1.45    7.27\n",
      "4  TELB4.SA      NaN     NaN\n",
      "Arquivo salvo em: ../data/dividend_yield.csv\n"
     ]
    }
   ],
   "source": [
    "import pandas as pd\n",
    "import os\n",
    "\n",
    "# Carregar os arquivos CSV\n",
    "precos = pd.read_csv(\"../data/precos_acoes.csv\")\n",
    "div = pd.read_csv(\"../data/dividendos_ano_resumo.csv\")\n",
    "\n",
    "# Normalizar tickers para merge\n",
    "precos[\"ticker_base\"] = (\n",
    "    precos[\"ticker\"].astype(str).str.upper().str.strip().str.replace(\".SA\", \"\", regex=False)\n",
    ")\n",
    "div[\"ticker_base\"] = div[\"ticker\"].astype(str).str.upper().str.strip()\n",
    "\n",
    "# Garantir tipos numéricos\n",
    "precos[\"fechamento_atual\"] = pd.to_numeric(precos[\"fechamento_atual\"], errors=\"coerce\")\n",
    "div[\"valor_5anos\"] = pd.to_numeric(div[\"valor_5anos\"], errors=\"coerce\")\n",
    "div[\"valor_12m\"] = pd.to_numeric(div[\"valor_12m\"], errors=\"coerce\")\n",
    "\n",
    "# Merge para ter todos os tickers do arquivo de preços\n",
    "df = precos.merge(div[[\"ticker_base\", \"valor_5anos\", \"valor_12m\"]], on=\"ticker_base\", how=\"left\")\n",
    "\n",
    "# Calcular DYs\n",
    "df[\"DY5anos\"] = (((df[\"valor_5anos\"] / 5) / df[\"fechamento_atual\"]) * 100).where(df[\"fechamento_atual\"] > 0)\n",
    "df[\"DY12M\"]   = ((df[\"valor_12m\"] / df[\"fechamento_atual\"]) * 100).where(df[\"fechamento_atual\"] > 0)\n",
    "\n",
    "# Arredondar\n",
    "df[\"DY5anos\"] = df[\"DY5anos\"].round(2)\n",
    "df[\"DY12M\"] = df[\"DY12M\"].round(2)\n",
    "\n",
    "# Selecionar apenas as colunas desejadas\n",
    "df_final = df[[\"ticker\", \"DY5anos\", \"DY12M\"]]\n",
    "\n",
    "# Mostrar primeiros 5\n",
    "print(df_final.head(5))\n",
    "\n",
    "# Salvar no caminho solicitado\n",
    "os.makedirs(\"../data\", exist_ok=True)\n",
    "df_final.to_csv(\"../data/dividend_yield.csv\", index=False)\n",
    "print(\"Arquivo salvo em: ../data/dividend_yield.csv\")\n"
   ]
  }
 ],
 "metadata": {
  "kernelspec": {
   "display_name": "venv (3.13.6)",
   "language": "python",
   "name": "python3"
  },
  "language_info": {
   "codemirror_mode": {
    "name": "ipython",
    "version": 3
   },
   "file_extension": ".py",
   "mimetype": "text/x-python",
   "name": "python",
   "nbconvert_exporter": "python",
   "pygments_lexer": "ipython3",
   "version": "3.13.6"
  }
 },
 "nbformat": 4,
 "nbformat_minor": 5
}
