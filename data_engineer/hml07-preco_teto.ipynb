{
 "cells": [
  {
   "cell_type": "markdown",
   "id": "53c30757",
   "metadata": {},
   "source": [
    "# Preço teto: 5 anos e 1 ano"
   ]
  },
  {
   "cell_type": "markdown",
   "id": "b54c2cf2",
   "metadata": {},
   "source": []
  },
  {
   "cell_type": "code",
   "execution_count": null,
   "id": "9a5d113d",
   "metadata": {
    "vscode": {
     "languageId": "plaintext"
    }
   },
   "outputs": [],
   "source": []
  }
 ],
 "metadata": {
  "language_info": {
   "name": "python"
  }
 },
 "nbformat": 4,
 "nbformat_minor": 5
}
