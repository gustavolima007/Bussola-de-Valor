{
 "cells": [
  {
   "cell_type": "markdown",
   "id": "6199a837",
   "metadata": {},
   "source": [
    "# Dividendos por ano resumido (DY5 e DY12M)"
   ]
  },
  {
   "cell_type": "markdown",
   "id": "61cbc116",
   "metadata": {},
   "source": []
  },
  {
   "cell_type": "code",
   "execution_count": null,
   "id": "74aa6aeb",
   "metadata": {},
   "outputs": [
    {
     "name": "stdout",
     "output_type": "stream",
     "text": [
      "Arquivo 'dividendos_ano_resumo.csv' gerado com sucesso!\n",
      "   ticket  valor_5anos  valor_12m\n",
      "0   ABCB4     6.902438   1.086000\n",
      "1   AGRO3    12.644483   0.000000\n",
      "2   ALOS3     3.143675   0.486905\n",
      "3  ALUP11     5.310194   0.450000\n",
      "4   ALUP3     1.770064   0.150000\n",
      "(122, 3)\n"
     ]
    }
   ],
   "source": [
    "import pandas as pd\n",
    "\n",
    "# Carregar os dividendos por ano e ticket\n",
    "df = pd.read_csv('../data/dividendos_ano.csv')\n",
    "\n",
    "# Descobrir o último ano disponível\n",
    "ultimo_ano = df['ano'].max()\n",
    "\n",
    "# Dividendos dos últimos 5 anos\n",
    "div_5anos = df[df['ano'] >= ultimo_ano - 4]\n",
    "soma_5anos = div_5anos.groupby('ticket')['dividendo'].sum().reset_index()\n",
    "soma_5anos = soma_5anos.rename(columns={'dividendo': 'valor_5anos'})\n",
    "\n",
    "# Dividendos dos últimos 12 meses\n",
    "div_12m = df[df['ano'] == ultimo_ano]\n",
    "soma_12m = div_12m[['ticket', 'dividendo']].rename(columns={'dividendo': 'valor_12m'})\n",
    "\n",
    "# Juntar os dois\n",
    "resumo = pd.merge(soma_5anos, soma_12m, on='ticket', how='outer').fillna(0)\n",
    "\n",
    "# Reorganizar colunas\n",
    "resumo = resumo[['ticket', 'valor_5anos', 'valor_12m']]\n",
    "\n",
    "# Salvar resultado\n",
    "resumo.to_csv('../data/dividendos_ano_resumo.csv', index=False)\n",
    "print(\"Arquivo 'dividendos_ano_resumo.csv' gerado com sucesso!\")\n",
    "print(resumo.head())\n",
    "print(resumo.shape)"
   ]
  }
 ],
 "metadata": {
  "kernelspec": {
   "display_name": "venv (3.13.6)",
   "language": "python",
   "name": "python3"
  },
  "language_info": {
   "codemirror_mode": {
    "name": "ipython",
    "version": 3
   },
   "file_extension": ".py",
   "mimetype": "text/x-python",
   "name": "python",
   "nbconvert_exporter": "python",
   "pygments_lexer": "ipython3",
   "version": "3.13.6"
  }
 },
 "nbformat": 4,
 "nbformat_minor": 5
}
