{
 "cells": [
  {
   "cell_type": "code",
   "execution_count": null,
   "id": "c91b5ebd",
   "metadata": {},
   "outputs": [],
   "source": []
  },
  {
   "cell_type": "code",
   "execution_count": null,
   "id": "75d524c0",
   "metadata": {},
   "outputs": [],
   "source": []
  },
  {
   "cell_type": "code",
   "execution_count": 2,
   "id": "22661f5f",
   "metadata": {},
   "outputs": [
    {
     "name": "stdout",
     "output_type": "stream",
     "text": [
      "     ticker  fechamento_atual\n",
      "0  VIVT3.SA             32.92\n",
      "1  TIMS3.SA             22.37\n",
      "2  FIQE3.SA              3.92\n",
      "    ano  ticket  dividendo\n",
      "0  2018   AGRO3   0.762051\n",
      "1  2018  ALUP11   0.160019\n",
      "2  2018   ALUP3   0.053340\n"
     ]
    }
   ],
   "source": [
    "import pandas as pd\n",
    "\n",
    "# Lendo o arquivo CSV\n",
    "caminho_arquivo = '../data/precos_acoes.csv'\n",
    "dados = pd.read_csv(caminho_arquivo)\n",
    "\n",
    "caminho_arquivo2 = '../data/dividendos_ano.csv'\n",
    "dados2 = pd.read_csv(caminho_arquivo2)\n",
    "\n",
    "# Imprimindo o conteúdo\n",
    "print(dados.head(3))\n",
    "print(dados2.head(3))"
   ]
  },
  {
   "cell_type": "code",
   "execution_count": 8,
   "id": "b87ea311",
   "metadata": {},
   "outputs": [
    {
     "name": "stdout",
     "output_type": "stream",
     "text": [
      "\n",
      "==================================================\n",
      "CONTEÚDO DO ARQUIVO: ../data/precos_acoes.csv (primeiras 3 linhas)\n",
      "==================================================\n",
      "     ticker  fechamento_atual\n",
      "0  VIVT3.SA             32.92\n",
      "1  TIMS3.SA             22.37\n",
      "2  FIQE3.SA              3.92\n",
      "\n",
      "--------------------------------------------------\n",
      "\n",
      "\n",
      "==================================================\n",
      "CONTEÚDO DO ARQUIVO: ../data/dividendos_ano.csv (primeiras 3 linhas)\n",
      "==================================================\n",
      "    ano  ticker  dividendo\n",
      "0  2018   AGRO3   0.762051\n",
      "1  2018  ALUP11   0.160019\n",
      "2  2018   ALUP3   0.053340\n",
      "\n",
      "--------------------------------------------------\n",
      "\n",
      "\n",
      "==================================================\n",
      "CONTEÚDO DO ARQUIVO: ../data/dividendos_ano_resumo.csv (primeiras 3 linhas)\n",
      "==================================================\n",
      "  ticker  valor_5anos  valor_12m\n",
      "0  ABCB4     6.902438   1.086000\n",
      "1  AGRO3    12.644483   0.000000\n",
      "2  ALOS3     3.143675   0.486905\n",
      "\n",
      "--------------------------------------------------\n",
      "\n"
     ]
    }
   ],
   "source": [
    "import pandas as pd\n",
    "\n",
    "# Lendo os arquivos CSV\n",
    "caminho_arquivo1 = '../data/precos_acoes.csv'\n",
    "dados1 = pd.read_csv(caminho_arquivo1)\n",
    "\n",
    "caminho_arquivo2 = '../data/dividendos_ano.csv'\n",
    "dados2 = pd.read_csv(caminho_arquivo2)\n",
    "\n",
    "caminho_arquivo3 = '../data/dividendos_ano_resumo.csv'\n",
    "dados3 = pd.read_csv(caminho_arquivo3)\n",
    "\n",
    "# Imprimindo com formatação melhorada\n",
    "print(\"\\n\" + \"=\"*50)\n",
    "print(f\"CONTEÚDO DO ARQUIVO: {caminho_arquivo1} (primeiras 3 linhas)\")\n",
    "print(\"=\"*50)\n",
    "print(dados1.head(3))\n",
    "print(\"\\n\" + \"-\"*50 + \"\\n\")  # Separador\n",
    "\n",
    "print(\"\\n\" + \"=\"*50)\n",
    "print(f\"CONTEÚDO DO ARQUIVO: {caminho_arquivo2} (primeiras 3 linhas)\")\n",
    "print(\"=\"*50)\n",
    "print(dados2.head(3))\n",
    "print(\"\\n\" + \"-\"*50 + \"\\n\")\n",
    "\n",
    "print(\"\\n\" + \"=\"*50)\n",
    "print(f\"CONTEÚDO DO ARQUIVO: {caminho_arquivo3} (primeiras 3 linhas)\")\n",
    "print(\"=\"*50)\n",
    "print(dados3.head(3))\n",
    "print(\"\\n\" + \"-\"*50 + \"\\n\")"
   ]
  }
 ],
 "metadata": {
  "kernelspec": {
   "display_name": "venv (3.13.6)",
   "language": "python",
   "name": "python3"
  },
  "language_info": {
   "codemirror_mode": {
    "name": "ipython",
    "version": 3
   },
   "file_extension": ".py",
   "mimetype": "text/x-python",
   "name": "python",
   "nbconvert_exporter": "python",
   "pygments_lexer": "ipython3",
   "version": "3.13.6"
  }
 },
 "nbformat": 4,
 "nbformat_minor": 5
}
