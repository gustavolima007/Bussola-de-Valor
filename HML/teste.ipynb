{
 "cells": [
  {
   "cell_type": "code",
   "execution_count": null,
   "id": "5edadf3a",
   "metadata": {},
   "outputs": [
    {
     "name": "stdout",
     "output_type": "stream",
     "text": [
      "CAGR: 36.22%\n"
     ]
    }
   ],
   "source": [
    "import yfinance as yf\n",
    "\n",
    "ticker = yf.Ticker(\"PETR4.SA\")\n",
    "hist = ticker.history(period=\"5y\")\n",
    "inicio = hist[\"Close\"].iloc[0]\n",
    "fim = hist[\"Close\"].iloc[-1]\n",
    "anos = 5\n",
    "cagr = ((fim / inicio) ** (1 / anos)) - 1\n",
    "print(f\"CAGR: {cagr:.2%}\")"
   ]
  },
  {
   "cell_type": "code",
   "execution_count": 1,
   "id": "a44b4246",
   "metadata": {},
   "outputs": [
    {
     "name": "stdout",
     "output_type": "stream",
     "text": [
      "Recomendações para TAESA:\n",
      "  period  strongBuy  buy  hold  sell  strongSell\n",
      "0     0m          0    0     4     5           4\n",
      "1    -1m          0    0     4     5           4\n",
      "2    -2m          0    0     5     5           3\n",
      "\n",
      "Recomendações para ITAÚSA:\n",
      "  period  strongBuy  buy  hold  sell  strongSell\n",
      "0     0m          2    5     0     0           0\n",
      "1    -1m          2    5     0     0           0\n",
      "2    -2m          2    5     0     0           0\n"
     ]
    }
   ],
   "source": [
    "import yfinance as yf\n",
    "\n",
    "# Exemplo com ações brasileiras (use .SA no final do ticker)\n",
    "taesa = yf.Ticker(\"TAEE11.SA\")\n",
    "itausa = yf.Ticker(\"ITSA4.SA\")\n",
    "\n",
    "# Pega as recomendações de analistas (se disponível)\n",
    "recomendacoes_taesa = taesa.recommendations\n",
    "recomendacoes_itausa = itausa.recommendations\n",
    "\n",
    "print(\"Recomendações para TAESA:\")\n",
    "print(recomendacoes_taesa.tail())  # Mostra as últimas recomendações\n",
    "\n",
    "print(\"\\nRecomendações para ITAÚSA:\")\n",
    "print(recomendacoes_itausa.tail())\n"
   ]
  },
  {
   "cell_type": "markdown",
   "id": "f65b1be0",
   "metadata": {},
   "source": [
    "## Validacao Divivendo 12M e 5anos"
   ]
  },
  {
   "cell_type": "code",
   "execution_count": 8,
   "id": "7f15b722",
   "metadata": {},
   "outputs": [
    {
     "data": {
      "text/markdown": [
       "### Análise de Dividendos para: `petr4.SA`"
      ],
      "text/plain": [
       "<IPython.core.display.Markdown object>"
      ]
     },
     "metadata": {},
     "output_type": "display_data"
    },
    {
     "data": {
      "text/markdown": [
       "**Dividendos Totais (Últimos 12 Meses):** **R$ 3.51**"
      ],
      "text/plain": [
       "<IPython.core.display.Markdown object>"
      ]
     },
     "metadata": {},
     "output_type": "display_data"
    },
    {
     "data": {
      "text/markdown": [
       "**Dividendos Totais (Últimos 5 Anos):** **R$ 28.92**"
      ],
      "text/plain": [
       "<IPython.core.display.Markdown object>"
      ]
     },
     "metadata": {},
     "output_type": "display_data"
    },
    {
     "data": {
      "text/markdown": [
       "**Insight:** Os dividendos do último ano representam **12.2%** do total pago nos últimos 5 anos."
      ],
      "text/plain": [
       "<IPython.core.display.Markdown object>"
      ]
     },
     "metadata": {},
     "output_type": "display_data"
    },
    {
     "data": {
      "text/markdown": [
       "> **Projeção:** O pagamento no último ano foi **abaixo da média** do período. Vale investigar se foi um evento pontual ou uma mudança na política de dividendos."
      ],
      "text/plain": [
       "<IPython.core.display.Markdown object>"
      ]
     },
     "metadata": {},
     "output_type": "display_data"
    }
   ],
   "source": [
    "import yfinance as yf\n",
    "import pandas as pd\n",
    "from pandas.tseries.offsets import DateOffset\n",
    "from IPython.display import display, Markdown\n",
    "\n",
    "def analisar_dividendos(ticker: str):\n",
    "    \"\"\"\n",
    "    Calcula e exibe os dividendos de um ticker nos últimos 12 meses e 5 anos.\n",
    "    \"\"\"\n",
    "    try:\n",
    "        # Baixa os dados da ação\n",
    "        stock = yf.Ticker(ticker)\n",
    "        dividends = stock.dividends\n",
    "\n",
    "        # Se não houver dividendos, encerra a função.\n",
    "        if dividends.empty:\n",
    "            display(Markdown(f\"### Análise de Dividendos para: `{ticker}`\\n\\nNão foram encontrados dados de dividendos para este ativo.\"))\n",
    "            return\n",
    "\n",
    "        # Converte para DataFrame e organiza\n",
    "        df_dividends = pd.DataFrame(dividends, columns=['Dividends']).sort_index()\n",
    "\n",
    "        # Define as datas de início e fim para os cálculos\n",
    "        # A data final é hoje e a inicial é X períodos no passado.\n",
    "        end_date = pd.Timestamp.now(tz='America/Sao_Paulo')\n",
    "        start_date_12m = end_date - DateOffset(years=1)\n",
    "        start_date_5y = end_date - DateOffset(years=5)\n",
    "\n",
    "        # Filtra o DataFrame para os períodos desejados\n",
    "        # Apenas dividendos pagos a partir de 5 anos atrás são considerados\n",
    "        df_dividends_5y_period = df_dividends[df_dividends.index >= start_date_5y]\n",
    "\n",
    "        # Calcula dividendos dos últimos 5 anos\n",
    "        div_5y_total = df_dividends_5y_period['Dividends'].sum()\n",
    "\n",
    "        # Calcula dividendos dos últimos 12 meses a partir do df já filtrado dos 5 anos\n",
    "        div_12m_total = df_dividends_5y_period[df_dividends_5y_period.index >= start_date_12m]['Dividends'].sum()\n",
    "\n",
    "        # Exibição dos resultados com Markdown para melhor visualização\n",
    "        display(Markdown(f\"### Análise de Dividendos para: `{ticker}`\"))\n",
    "        display(Markdown(f\"**Dividendos Totais (Últimos 12 Meses):** **R$ {div_12m_total:.2f}**\"))\n",
    "        display(Markdown(f\"**Dividendos Totais (Últimos 5 Anos):** **R$ {div_5y_total:.2f}**\"))\n",
    "\n",
    "        # Validação e Insights\n",
    "        if div_5y_total > 0:\n",
    "            percentual = (div_12m_total / div_5y_total) * 100\n",
    "            display(Markdown(f\"**Insight:** Os dividendos do último ano representam **{percentual:.1f}%** do total pago nos últimos 5 anos.\"))\n",
    "            if percentual > 25: # Um valor médio esperado seria 20% (1/5)\n",
    "                 display(Markdown(\"> **Projeção:** O pagamento no último ano foi **acima da média** do período, indicando uma possível aceleração na distribuição de proventos.\"))\n",
    "            elif percentual < 15:\n",
    "                 display(Markdown(\"> **Projeção:** O pagamento no último ano foi **abaixo da média** do período. Vale investigar se foi um evento pontual ou uma mudança na política de dividendos.\"))\n",
    "\n",
    "    except Exception as e:\n",
    "        display(Markdown(f\"### Erro ao analisar `{ticker}`\\n\\nOcorreu um erro: {e}\"))\n",
    "\n",
    "# Exemplo de uso com o ticker do seu código\n",
    "analisar_dividendos(\"petr4.SA\")"
   ]
  },
  {
   "cell_type": "markdown",
   "id": "39aeaab4",
   "metadata": {},
   "source": [
    "## API EODHD"
   ]
  },
  {
   "cell_type": "code",
   "execution_count": null,
   "id": "6fb03120",
   "metadata": {},
   "outputs": [],
   "source": [
    "api_key = \"6865878bb74f39.03100329\""
   ]
  },
  {
   "cell_type": "markdown",
   "id": "3a626eb2",
   "metadata": {},
   "source": [
    "## finnhub"
   ]
  },
  {
   "cell_type": "code",
   "execution_count": null,
   "id": "25b76f4a",
   "metadata": {},
   "outputs": [],
   "source": [
    "api_key = \"d1iogt1r01qhbuvra280d1iogt1r01qhbuvra28g\""
   ]
  },
  {
   "cell_type": "code",
   "execution_count": 13,
   "id": "d1496400",
   "metadata": {},
   "outputs": [
    {
     "name": "stdout",
     "output_type": "stream",
     "text": [
      "Erro na requisição: FinnhubAPIException(status_code: 403): You don't have access to this resource.\n"
     ]
    }
   ],
   "source": [
    "import finnhub\n",
    "import pandas as pd\n",
    "from datetime import datetime, timedelta\n",
    "\n",
    "# Substitua pela sua chave API real obtida em https://finnhub.io/\n",
    "api_key = \"d1iogt1r01qhbuvra280d1iogt1r01qhbuvra28g\"\n",
    "\n",
    "# Configura o cliente Finnhub\n",
    "finnhub_client = finnhub.Client(api_key=api_key)\n",
    "\n",
    "# Define o período de 5 anos\n",
    "end_date = datetime.now()\n",
    "start_date = end_date - timedelta(days=5*365)  # Aproximadamente 5 anos\n",
    "\n",
    "# Obtém dados de dividendos\n",
    "symbol = \"TAEE4.SA\"  # Ticker da Taesa na B3\n",
    "try:\n",
    "    dividends = finnhub_client.stock_dividends(symbol, start_date.strftime(\"%Y-%m-%d\"), end_date.strftime(\"%Y-%m-%d\"))\n",
    "    print(\"Resposta bruta da API:\", dividends)\n",
    "\n",
    "    # Processa os dividendos, se existirem\n",
    "    if 'dividends' in dividends:\n",
    "        df_dividends = pd.DataFrame(dividends['dividends'])\n",
    "        if not df_dividends.empty:\n",
    "            print(\"Dividendos encontrados:\")\n",
    "            print(df_dividends[['date', 'amount']])\n",
    "        else:\n",
    "            print(\"Nenhum dividendo encontrado no período.\")\n",
    "    else:\n",
    "        print(\"Chave 'dividends' não encontrada na resposta. Estrutura da resposta:\", dividends)\n",
    "\n",
    "except Exception as e:\n",
    "    print(f\"Erro na requisição: {str(e)}\")"
   ]
  }
 ],
 "metadata": {
  "kernelspec": {
   "display_name": "Python 3",
   "language": "python",
   "name": "python3"
  },
  "language_info": {
   "codemirror_mode": {
    "name": "ipython",
    "version": 3
   },
   "file_extension": ".py",
   "mimetype": "text/x-python",
   "name": "python",
   "nbconvert_exporter": "python",
   "pygments_lexer": "ipython3",
   "version": "3.13.5"
  }
 },
 "nbformat": 4,
 "nbformat_minor": 5
}
