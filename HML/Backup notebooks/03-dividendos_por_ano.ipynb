{
 "cells": [
  {
   "cell_type": "markdown",
   "id": "8c8a1e02",
   "metadata": {},
   "source": [
    "# Dividendos por ano"
   ]
  },
  {
   "cell_type": "markdown",
   "id": "627028ff",
   "metadata": {},
   "source": [
    "Esse código lê o arquivo ../data/todos_dividendos.csv, converte a coluna de datas para o tipo datetime para extrair o ano, padroniza os nomes das colunas para minúsculas, e então agrupa os dados por ano e por ticker para somar todos os valores de dividendos pagos nesse período; o resultado, que mostra o total de dividendos por ativo em cada ano, é salvo no arquivo ../data/dividendos_ano.csv, gerando um resumo anual consolidado."
   ]
  },
  {
   "cell_type": "code",
   "execution_count": 1,
   "id": "2ca4acde",
   "metadata": {},
   "outputs": [
    {
     "name": "stdout",
     "output_type": "stream",
     "text": [
      "Arquivo 'dividendos_ano.csv' gerado com sucesso!\n"
     ]
    }
   ],
   "source": [
    "import pandas as pd\n",
    "\n",
    "# Ler o arquivo CSV\n",
    "df = pd.read_csv('../data/todos_dividendos.csv')\n",
    "\n",
    "# Converter a coluna 'Data' para datetime e extrair o ano\n",
    "df['Data'] = pd.to_datetime(df['Data'])\n",
    "df['ano'] = df['Data'].dt.year\n",
    "\n",
    "# Renomear colunas para minúsculas\n",
    "df = df.rename(columns={'Ticker': 'ticker', 'Valor': 'dividendo', 'Data': 'data'})\n",
    "\n",
    "# Somar os dividendos por ano e ticker\n",
    "soma_por_ano_ticker = df.groupby(['ano', 'ticker'])['dividendo'].sum().reset_index()\n",
    "\n",
    "# Salvar o resultado em um CSV\n",
    "soma_por_ano_ticker.to_csv('../data/dividendos_ano.csv', index=False)\n",
    "print(\"Arquivo 'dividendos_ano.csv' gerado com sucesso!\")"
   ]
  },
  {
   "cell_type": "code",
   "execution_count": 2,
   "id": "f92773d0",
   "metadata": {},
   "outputs": [
    {
     "name": "stdout",
     "output_type": "stream",
     "text": [
      "    ano  ticker  dividendo\n",
      "0  2018   AGRO3   0.762051\n",
      "1  2018  ALUP11   0.160019\n",
      "2  2018   ALUP3   0.053340\n",
      "3  2018   ALUP4   0.053340\n",
      "4  2018   B3SA3   0.127684\n"
     ]
    }
   ],
   "source": [
    "import pandas as pd \n",
    "\n",
    "div_ano = pd.read_csv('../data/dividendos_ano.csv')\n",
    "print(div_ano.head())"
   ]
  }
 ],
 "metadata": {
  "kernelspec": {
   "display_name": "venv (3.13.6)",
   "language": "python",
   "name": "python3"
  },
  "language_info": {
   "codemirror_mode": {
    "name": "ipython",
    "version": 3
   },
   "file_extension": ".py",
   "mimetype": "text/x-python",
   "name": "python",
   "nbconvert_exporter": "python",
   "pygments_lexer": "ipython3",
   "version": "3.13.6"
  }
 },
 "nbformat": 4,
 "nbformat_minor": 5
}
