{
 "cells": [
  {
   "cell_type": "code",
   "execution_count": 2,
   "id": "114f76c2",
   "metadata": {},
   "outputs": [
    {
     "name": "stdout",
     "output_type": "stream",
     "text": [
      "✅ Dados salvos na pasta 'dados_taee'\n"
     ]
    }
   ],
   "source": [
    "import yfinance as yf\n",
    "import pandas as pd\n",
    "from datetime import datetime, timedelta\n",
    "\n",
    "# Define os tickers\n",
    "tickers = ['TAEE3.SA', 'TAEE4.SA', 'TAEE11.SA']\n",
    "\n",
    "# Define o período de 5 anos\n",
    "end_date = datetime.today()\n",
    "start_date = end_date - timedelta(days=5*365)\n",
    "\n",
    "# Cria uma pasta para salvar os arquivos CSV\n",
    "import os\n",
    "os.makedirs(\"dados_taee\", exist_ok=True)\n",
    "\n",
    "# Loop para baixar dados de cada ticker\n",
    "for ticker in tickers:\n",
    "    acao = yf.Ticker(ticker)\n",
    "\n",
    "    # Dados históricos de preço\n",
    "    historico = acao.history(start=start_date.strftime('%Y-%m-%d'), end=end_date.strftime('%Y-%m-%d'), actions=True)\n",
    "\n",
    "    # Salva em CSV\n",
    "    historico.to_csv(f\"dados_taee/{ticker.replace('.SA','')}_historico.csv\")\n",
    "\n",
    "    # Dividendos\n",
    "    dividendos = acao.dividends\n",
    "    dividendos.to_csv(f\"dados_taee/{ticker.replace('.SA','')}_dividendos.csv\")\n",
    "\n",
    "print(\"✅ Dados salvos na pasta 'dados_taee'\")\n"
   ]
  },
  {
   "cell_type": "code",
   "execution_count": 3,
   "id": "35c4cdd4",
   "metadata": {},
   "outputs": [
    {
     "name": "stdout",
     "output_type": "stream",
     "text": [
      "Ocorreu um erro ao buscar os dados: ERR#0015: error 403, try again later.\n"
     ]
    }
   ],
   "source": [
    "import investpy\n",
    "import pandas as pd\n",
    "\n",
    "# Definindo o intervalo de datas no formato correto 'DD/MM/YYYY'\n",
    "from_date = '01/01/2020'\n",
    "to_date = '01/08/2025'  # Certifique-se de que essa data não seja no futuro em relação à data de execução do código\n",
    "\n",
    "try:\n",
    "    # Buscando dados históricos da ação 'TAEE11'\n",
    "    df = investpy.get_stock_historical_data(\n",
    "        stock='TAEE11',\n",
    "        country='brazil',\n",
    "        from_date=from_date,\n",
    "        to_date=to_date\n",
    "    )\n",
    "    \n",
    "    # Salvando os dados em um arquivo CSV\n",
    "    df.to_csv('taee11_investpy.csv')\n",
    "    print(\"Dados salvos com sucesso em 'taee11_investpy.csv'\")\n",
    "except Exception as e:\n",
    "    print(f\"Ocorreu um erro ao buscar os dados: {e}\")\n"
   ]
  }
 ],
 "metadata": {
  "kernelspec": {
   "display_name": "Python 3",
   "language": "python",
   "name": "python3"
  },
  "language_info": {
   "codemirror_mode": {
    "name": "ipython",
    "version": 3
   },
   "file_extension": ".py",
   "mimetype": "text/x-python",
   "name": "python",
   "nbconvert_exporter": "python",
   "pygments_lexer": "ipython3",
   "version": "3.13.5"
  }
 },
 "nbformat": 4,
 "nbformat_minor": 5
}
