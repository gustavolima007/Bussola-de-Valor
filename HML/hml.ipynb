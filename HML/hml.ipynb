{
 "cells": [
  {
   "cell_type": "code",
   "execution_count": 1,
   "id": "ef6c1c9f",
   "metadata": {},
   "outputs": [
    {
     "name": "stdout",
     "output_type": "stream",
     "text": [
      "📡 Buscando ativos no BRAPI...\n",
      "✅ 150 ativos válidos encontrados.\n",
      "💾 Dicionário salvo em: E:\\Github\\Unicamp\\Bussola-de-Valor\\data\\dicionario_ativos.json\n"
     ]
    }
   ],
   "source": [
    "import warnings\n",
    "warnings.filterwarnings(\"ignore\", category=FutureWarning)\n",
    "\n",
    "import requests\n",
    "import yfinance as yf\n",
    "import os\n",
    "import json\n",
    "\n",
    "# 🎯 Setores-alvo\n",
    "SETORES_ALVO = {\n",
    "    \"Finance\",\n",
    "    \"Utilities\",\n",
    "    \"Communications\",\n",
    "    \"Industrial Services\"\n",
    "}\n",
    "\n",
    "# 🔁 Renomeações conhecidas\n",
    "RENOMEACOES_TICKERS = {\n",
    "    \"TIMS3.SA\": [\"VIVT3.SA\"],\n",
    "    \"PRIO3.SA\": [\"HRT3.SA\"],\n",
    "    \"VBBR3.SA\": [\"BRDT3.SA\"],\n",
    "}\n",
    "\n",
    "# 📦 Função principal\n",
    "def gerar_dicionario_ativos(setores):\n",
    "    print(\"📡 Buscando ativos no BRAPI...\")\n",
    "    try:\n",
    "        response = requests.get(\"https://brapi.dev/api/quote/list\")\n",
    "        lista = response.json().get(\"stocks\", [])\n",
    "    except Exception as e:\n",
    "        print(f\"❌ Erro na requisição: {e}\")\n",
    "        return {}\n",
    "\n",
    "    ativos = {}\n",
    "    for item in lista:\n",
    "        ticker = f\"{item.get('stock')}.SA\"\n",
    "        setor = item.get(\"sector\")\n",
    "        tipo = item.get(\"type\")\n",
    "\n",
    "        if setor not in setores or tipo not in {\"stock\", \"fund\"} or ticker.endswith(\"F.SA\"):\n",
    "            continue\n",
    "\n",
    "        try:\n",
    "            info = yf.Ticker(ticker).info\n",
    "            if info.get(\"country\") != \"Brazil\":\n",
    "                continue\n",
    "\n",
    "            ativos[ticker] = {\n",
    "                \"empresa\": info.get(\"longName\", \"N/A\"),\n",
    "                \"setor\": setor,\n",
    "                \"tipo\": tipo,\n",
    "                \"logo\": item.get(\"logo\"),\n",
    "                \"aliases\": RENOMEACOES_TICKERS.get(ticker, [])\n",
    "            }\n",
    "        except Exception:\n",
    "            continue\n",
    "\n",
    "    print(f\"✅ {len(ativos)} ativos válidos encontrados.\")\n",
    "    return ativos\n",
    "\n",
    "# 💾 Salvar JSON\n",
    "def salvar_json(dados, caminho):\n",
    "    os.makedirs(os.path.dirname(caminho), exist_ok=True)\n",
    "    with open(caminho, \"w\", encoding=\"utf-8\") as f:\n",
    "        json.dump(dados, f, indent=4, ensure_ascii=False)\n",
    "    print(f\"💾 Dicionário salvo em: {caminho}\")\n",
    "\n",
    "# 🧠 Execução\n",
    "if __name__ == \"__main__\":\n",
    "    ativos = gerar_dicionario_ativos(SETORES_ALVO)\n",
    "    caminho_json = r\"E:\\Github\\Unicamp\\Bussola-de-Valor\\data\\dicionario_ativos.json\"\n",
    "    salvar_json(ativos, caminho_json)\n"
   ]
  }
 ],
 "metadata": {
  "kernelspec": {
   "display_name": "venv (3.13.6)",
   "language": "python",
   "name": "python3"
  },
  "language_info": {
   "codemirror_mode": {
    "name": "ipython",
    "version": 3
   },
   "file_extension": ".py",
   "mimetype": "text/x-python",
   "name": "python",
   "nbconvert_exporter": "python",
   "pygments_lexer": "ipython3",
   "version": "3.13.6"
  }
 },
 "nbformat": 4,
 "nbformat_minor": 5
}
