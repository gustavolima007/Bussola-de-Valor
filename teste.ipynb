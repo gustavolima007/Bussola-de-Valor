{
 "cells": [
  {
   "cell_type": "code",
   "execution_count": null,
   "id": "5edadf3a",
   "metadata": {},
   "outputs": [
    {
     "name": "stdout",
     "output_type": "stream",
     "text": [
      "CAGR: 36.22%\n"
     ]
    }
   ],
   "source": [
    "import yfinance as yf\n",
    "\n",
    "ticker = yf.Ticker(\"PETR4.SA\")\n",
    "hist = ticker.history(period=\"5y\")\n",
    "inicio = hist[\"Close\"].iloc[0]\n",
    "fim = hist[\"Close\"].iloc[-1]\n",
    "anos = 5\n",
    "cagr = ((fim / inicio) ** (1 / anos)) - 1\n",
    "print(f\"CAGR: {cagr:.2%}\")"
   ]
  },
  {
   "cell_type": "code",
   "execution_count": 1,
   "id": "a44b4246",
   "metadata": {},
   "outputs": [
    {
     "name": "stdout",
     "output_type": "stream",
     "text": [
      "Recomendações para TAESA:\n",
      "  period  strongBuy  buy  hold  sell  strongSell\n",
      "0     0m          0    0     4     5           4\n",
      "1    -1m          0    0     4     5           4\n",
      "2    -2m          0    0     5     5           3\n",
      "\n",
      "Recomendações para ITAÚSA:\n",
      "  period  strongBuy  buy  hold  sell  strongSell\n",
      "0     0m          2    5     0     0           0\n",
      "1    -1m          2    5     0     0           0\n",
      "2    -2m          2    5     0     0           0\n"
     ]
    }
   ],
   "source": [
    "import yfinance as yf\n",
    "\n",
    "# Exemplo com ações brasileiras (use .SA no final do ticker)\n",
    "taesa = yf.Ticker(\"TAEE11.SA\")\n",
    "itausa = yf.Ticker(\"ITSA4.SA\")\n",
    "\n",
    "# Pega as recomendações de analistas (se disponível)\n",
    "recomendacoes_taesa = taesa.recommendations\n",
    "recomendacoes_itausa = itausa.recommendations\n",
    "\n",
    "print(\"Recomendações para TAESA:\")\n",
    "print(recomendacoes_taesa.tail())  # Mostra as últimas recomendações\n",
    "\n",
    "print(\"\\nRecomendações para ITAÚSA:\")\n",
    "print(recomendacoes_itausa.tail())\n"
   ]
  },
  {
   "cell_type": "markdown",
   "id": "f65b1be0",
   "metadata": {},
   "source": [
    "## Validacao Divivendo 12M e 5anos"
   ]
  },
  {
   "cell_type": "code",
   "execution_count": 4,
   "id": "7f15b722",
   "metadata": {},
   "outputs": [
    {
     "name": "stdout",
     "output_type": "stream",
     "text": [
      "Dados brutos de dividendos:\n",
      "                            Dividends\n",
      "Date                                \n",
      "2017-05-23 00:00:00-03:00   0.172384\n",
      "2017-08-17 00:00:00-03:00   0.067622\n",
      "2017-11-17 00:00:00-02:00   0.089446\n",
      "2017-12-19 00:00:00-02:00   0.090097\n",
      "2018-05-03 00:00:00-03:00   0.154161\n",
      "2018-05-15 00:00:00-03:00   0.245617\n",
      "2018-08-10 00:00:00-03:00   0.159023\n",
      "2018-11-12 00:00:00-02:00   0.237190\n",
      "2018-12-18 00:00:00-02:00   0.133092\n",
      "2019-05-06 00:00:00-03:00   0.055316\n",
      "2019-05-20 00:00:00-03:00   0.093612\n",
      "2019-08-09 00:00:00-03:00   0.240669\n",
      "2019-11-21 00:00:00-03:00   0.180497\n",
      "2019-12-17 00:00:00-03:00   0.060138\n",
      "2020-05-07 00:00:00-03:00   0.059760\n",
      "2020-05-20 00:00:00-03:00   0.233880\n",
      "2020-08-18 00:00:00-03:00   0.270253\n",
      "2020-11-17 00:00:00-03:00   0.453980\n",
      "2020-12-16 00:00:00-03:00   0.052460\n",
      "2021-05-05 00:00:00-03:00   0.543730\n",
      "2021-05-19 00:00:00-03:00   0.451454\n",
      "2021-12-07 00:00:00-03:00   0.506048\n",
      "Dividendos últimos 12 meses (12M): R$0.00\n",
      "Dividendos últimos 5 anos (5Y): R$2.28\n",
      "Validação: Não há dados suficientes para comparar dividendos.\n"
     ]
    }
   ],
   "source": [
    "   import yfinance as yf\n",
    "   import pandas as pd\n",
    "   from pandas.tseries.offsets import DateOffset\n",
    "\n",
    "   # Configuração da ação (TAEE4.SA para Taesa no Brasil)\n",
    "   ticker = \"TAEE4.SA\"\n",
    "\n",
    "   # Baixa os dados da ação\n",
    "   stock = yf.Ticker(ticker)\n",
    "   dividends = stock.dividends\n",
    "\n",
    "   # Converte para DataFrame e organiza por data\n",
    "   df_dividends = pd.DataFrame(dividends, columns=['Dividends']).sort_index()\n",
    "   print(\"Dados brutos de dividendos:\\n\", df_dividends)\n",
    "\n",
    "   # Obtém o fuso horário do índice (se disponível)\n",
    "   if not df_dividends.empty and hasattr(df_dividends.index, 'tz'):\n",
    "       tz = df_dividends.index.tz\n",
    "   else:\n",
    "       tz = 'America/Sao_Paulo'  # Fuso horário padrão do Brasil\n",
    "\n",
    "   # Calcula datas com o mesmo fuso horário\n",
    "   end_date = pd.Timestamp.now(tz=tz)\n",
    "   start_date_12m = end_date - DateOffset(months=12)\n",
    "   start_date_5y = end_date - DateOffset(years=5)\n",
    "\n",
    "   # Calcula dividendos dos últimos 12 meses\n",
    "   div_12m = df_dividends[(df_dividends.index >= start_date_12m) & (df_dividends.index <= end_date)]['Dividends'].sum()\n",
    "\n",
    "   # Calcula dividendos dos últimos 5 anos\n",
    "   div_5y = df_dividends[(df_dividends.index >= start_date_5y) & (df_dividends.index <= end_date)]['Dividends'].sum()\n",
    "\n",
    "   # Validação básica\n",
    "   print(f\"Dividendos últimos 12 meses (12M): R${div_12m:.2f}\")\n",
    "   print(f\"Dividendos últimos 5 anos (5Y): R${div_5y:.2f}\")\n",
    "\n",
    "   # Comparação simples\n",
    "   if div_12m > 0 and div_5y > 0:\n",
    "       if div_12m / div_5y * 100 > 20:  # Verifica se os 12M representam mais de 20% dos 5 anos\n",
    "           print(\"Validação: Dividendos dos últimos 12 meses são significativos (>20% dos 5 anos).\")\n",
    "       else:\n",
    "           print(\"Validação: Dividendos dos últimos 12 meses são baixos (<20% dos 5 anos).\")\n",
    "   else:\n",
    "       print(\"Validação: Não há dados suficientes para comparar dividendos.\")"
   ]
  }
 ],
 "metadata": {
  "kernelspec": {
   "display_name": "Python 3",
   "language": "python",
   "name": "python3"
  },
  "language_info": {
   "codemirror_mode": {
    "name": "ipython",
    "version": 3
   },
   "file_extension": ".py",
   "mimetype": "text/x-python",
   "name": "python",
   "nbconvert_exporter": "python",
   "pygments_lexer": "ipython3",
   "version": "3.13.5"
  }
 },
 "nbformat": 4,
 "nbformat_minor": 5
}
