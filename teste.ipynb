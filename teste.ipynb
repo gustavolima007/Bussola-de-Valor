{
 "cells": [
  {
   "cell_type": "code",
   "execution_count": null,
   "id": "5edadf3a",
   "metadata": {},
   "outputs": [
    {
     "name": "stdout",
     "output_type": "stream",
     "text": [
      "CAGR: 36.22%\n"
     ]
    }
   ],
   "source": [
    "import yfinance as yf\n",
    "\n",
    "ticker = yf.Ticker(\"PETR4.SA\")\n",
    "hist = ticker.history(period=\"5y\")\n",
    "inicio = hist[\"Close\"].iloc[0]\n",
    "fim = hist[\"Close\"].iloc[-1]\n",
    "anos = 5\n",
    "cagr = ((fim / inicio) ** (1 / anos)) - 1\n",
    "print(f\"CAGR: {cagr:.2%}\")"
   ]
  }
 ],
 "metadata": {
  "kernelspec": {
   "display_name": "Python 3",
   "language": "python",
   "name": "python3"
  },
  "language_info": {
   "codemirror_mode": {
    "name": "ipython",
    "version": 3
   },
   "file_extension": ".py",
   "mimetype": "text/x-python",
   "name": "python",
   "nbconvert_exporter": "python",
   "pygments_lexer": "ipython3",
   "version": "3.13.5"
  }
 },
 "nbformat": 4,
 "nbformat_minor": 5
}
