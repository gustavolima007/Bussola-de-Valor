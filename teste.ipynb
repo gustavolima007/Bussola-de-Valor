{
 "cells": [
  {
   "cell_type": "code",
   "execution_count": 2,
   "id": "5edadf3a",
   "metadata": {},
   "outputs": [
    {
     "ename": "NameError",
     "evalue": "name 'sentiment_score' is not defined",
     "output_type": "error",
     "traceback": [
      "\u001b[31m---------------------------------------------------------------------------\u001b[39m",
      "\u001b[31mNameError\u001b[39m                                 Traceback (most recent call last)",
      "\u001b[36mCell\u001b[39m\u001b[36m \u001b[39m\u001b[32mIn[2]\u001b[39m\u001b[32m, line 3\u001b[39m\n\u001b[32m      1\u001b[39m \u001b[38;5;28;01mimport\u001b[39;00m\u001b[38;5;250m \u001b[39m\u001b[34;01mplotly\u001b[39;00m\u001b[34;01m.\u001b[39;00m\u001b[34;01mgraph_objects\u001b[39;00m\u001b[38;5;250m \u001b[39m\u001b[38;5;28;01mas\u001b[39;00m\u001b[38;5;250m \u001b[39m\u001b[34;01mgo\u001b[39;00m\n\u001b[32m      2\u001b[39m fig = go.Figure(go.Indicator(\n\u001b[32m----> \u001b[39m\u001b[32m3\u001b[39m     mode=\u001b[33m\"\u001b[39m\u001b[33mgauge+number\u001b[39m\u001b[33m\"\u001b[39m, value=\u001b[43msentiment_score\u001b[49m * \u001b[32m50\u001b[39m + \u001b[32m50\u001b[39m,  \u001b[38;5;66;03m# Mapeia -2 a +2 para 0-100\u001b[39;00m\n\u001b[32m      4\u001b[39m     domain={\u001b[33m'\u001b[39m\u001b[33mx\u001b[39m\u001b[33m'\u001b[39m: [\u001b[32m0\u001b[39m, \u001b[32m1\u001b[39m], \u001b[33m'\u001b[39m\u001b[33my\u001b[39m\u001b[33m'\u001b[39m: [\u001b[32m0\u001b[39m, \u001b[32m1\u001b[39m]},\n\u001b[32m      5\u001b[39m     gauge={\u001b[33m'\u001b[39m\u001b[33maxis\u001b[39m\u001b[33m'\u001b[39m: {\u001b[33m'\u001b[39m\u001b[33mrange\u001b[39m\u001b[33m'\u001b[39m: [\u001b[32m0\u001b[39m, \u001b[32m100\u001b[39m]},\n\u001b[32m      6\u001b[39m            \u001b[33m'\u001b[39m\u001b[33msteps\u001b[39m\u001b[33m'\u001b[39m: [{\u001b[33m'\u001b[39m\u001b[33mrange\u001b[39m\u001b[33m'\u001b[39m: [\u001b[32m0\u001b[39m, \u001b[32m20\u001b[39m], \u001b[33m'\u001b[39m\u001b[33mcolor\u001b[39m\u001b[33m'\u001b[39m: \u001b[33m\"\u001b[39m\u001b[33mred\u001b[39m\u001b[33m\"\u001b[39m},\n\u001b[32m      7\u001b[39m                      {\u001b[33m'\u001b[39m\u001b[33mrange\u001b[39m\u001b[33m'\u001b[39m: [\u001b[32m20\u001b[39m, \u001b[32m40\u001b[39m], \u001b[33m'\u001b[39m\u001b[33mcolor\u001b[39m\u001b[33m'\u001b[39m: \u001b[33m\"\u001b[39m\u001b[33morange\u001b[39m\u001b[33m\"\u001b[39m},\n\u001b[32m      8\u001b[39m                      {\u001b[33m'\u001b[39m\u001b[33mrange\u001b[39m\u001b[33m'\u001b[39m: [\u001b[32m40\u001b[39m, \u001b[32m60\u001b[39m], \u001b[33m'\u001b[39m\u001b[33mcolor\u001b[39m\u001b[33m'\u001b[39m: \u001b[33m\"\u001b[39m\u001b[33myellow\u001b[39m\u001b[33m\"\u001b[39m},\n\u001b[32m      9\u001b[39m                      {\u001b[33m'\u001b[39m\u001b[33mrange\u001b[39m\u001b[33m'\u001b[39m: [\u001b[32m60\u001b[39m, \u001b[32m80\u001b[39m], \u001b[33m'\u001b[39m\u001b[33mcolor\u001b[39m\u001b[33m'\u001b[39m: \u001b[33m\"\u001b[39m\u001b[33mlightgreen\u001b[39m\u001b[33m\"\u001b[39m},\n\u001b[32m     10\u001b[39m                      {\u001b[33m'\u001b[39m\u001b[33mrange\u001b[39m\u001b[33m'\u001b[39m: [\u001b[32m80\u001b[39m, \u001b[32m100\u001b[39m], \u001b[33m'\u001b[39m\u001b[33mcolor\u001b[39m\u001b[33m'\u001b[39m: \u001b[33m\"\u001b[39m\u001b[33mgreen\u001b[39m\u001b[33m\"\u001b[39m}]}))\n\u001b[32m     11\u001b[39m st.plotly_chart(fig)\n",
      "\u001b[31mNameError\u001b[39m: name 'sentiment_score' is not defined"
     ]
    }
   ],
   "source": [
    "import plotly.graph_objects as go\n",
    "fig = go.Figure(go.Indicator(\n",
    "    mode=\"gauge+number\", value=sentiment_score * 50 + 50,  # Mapeia -2 a +2 para 0-100\n",
    "    domain={'x': [0, 1], 'y': [0, 1]},\n",
    "    gauge={'axis': {'range': [0, 100]},\n",
    "           'steps': [{'range': [0, 20], 'color': \"red\"},\n",
    "                     {'range': [20, 40], 'color': \"orange\"},\n",
    "                     {'range': [40, 60], 'color': \"yellow\"},\n",
    "                     {'range': [60, 80], 'color': \"lightgreen\"},\n",
    "                     {'range': [80, 100], 'color': \"green\"}]}))\n",
    "st.plotly_chart(fig)"
   ]
  }
 ],
 "metadata": {
  "kernelspec": {
   "display_name": "Python 3",
   "language": "python",
   "name": "python3"
  },
  "language_info": {
   "codemirror_mode": {
    "name": "ipython",
    "version": 3
   },
   "file_extension": ".py",
   "mimetype": "text/x-python",
   "name": "python",
   "nbconvert_exporter": "python",
   "pygments_lexer": "ipython3",
   "version": "3.13.5"
  }
 },
 "nbformat": 4,
 "nbformat_minor": 5
}
