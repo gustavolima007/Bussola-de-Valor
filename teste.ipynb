{
 "cells": [
  {
   "cell_type": "code",
   "execution_count": null,
   "id": "5edadf3a",
   "metadata": {},
   "outputs": [
    {
     "name": "stdout",
     "output_type": "stream",
     "text": [
      "CAGR: 36.22%\n"
     ]
    }
   ],
   "source": [
    "import yfinance as yf\n",
    "\n",
    "ticker = yf.Ticker(\"PETR4.SA\")\n",
    "hist = ticker.history(period=\"5y\")\n",
    "inicio = hist[\"Close\"].iloc[0]\n",
    "fim = hist[\"Close\"].iloc[-1]\n",
    "anos = 5\n",
    "cagr = ((fim / inicio) ** (1 / anos)) - 1\n",
    "print(f\"CAGR: {cagr:.2%}\")"
   ]
  },
  {
   "cell_type": "code",
   "execution_count": 1,
   "id": "a44b4246",
   "metadata": {},
   "outputs": [
    {
     "name": "stdout",
     "output_type": "stream",
     "text": [
      "Recomendações para TAESA:\n",
      "  period  strongBuy  buy  hold  sell  strongSell\n",
      "0     0m          0    0     4     5           4\n",
      "1    -1m          0    0     4     5           4\n",
      "2    -2m          0    0     5     5           3\n",
      "\n",
      "Recomendações para ITAÚSA:\n",
      "  period  strongBuy  buy  hold  sell  strongSell\n",
      "0     0m          2    5     0     0           0\n",
      "1    -1m          2    5     0     0           0\n",
      "2    -2m          2    5     0     0           0\n"
     ]
    }
   ],
   "source": [
    "import yfinance as yf\n",
    "\n",
    "# Exemplo com ações brasileiras (use .SA no final do ticker)\n",
    "taesa = yf.Ticker(\"TAEE11.SA\")\n",
    "itausa = yf.Ticker(\"ITSA4.SA\")\n",
    "\n",
    "# Pega as recomendações de analistas (se disponível)\n",
    "recomendacoes_taesa = taesa.recommendations\n",
    "recomendacoes_itausa = itausa.recommendations\n",
    "\n",
    "print(\"Recomendações para TAESA:\")\n",
    "print(recomendacoes_taesa.tail())  # Mostra as últimas recomendações\n",
    "\n",
    "print(\"\\nRecomendações para ITAÚSA:\")\n",
    "print(recomendacoes_itausa.tail())\n"
   ]
  }
 ],
 "metadata": {
  "kernelspec": {
   "display_name": "Python 3",
   "language": "python",
   "name": "python3"
  },
  "language_info": {
   "codemirror_mode": {
    "name": "ipython",
    "version": 3
   },
   "file_extension": ".py",
   "mimetype": "text/x-python",
   "name": "python",
   "nbconvert_exporter": "python",
   "pygments_lexer": "ipython3",
   "version": "3.13.5"
  }
 },
 "nbformat": 4,
 "nbformat_minor": 5
}
