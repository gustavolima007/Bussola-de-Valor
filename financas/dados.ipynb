{
 "cells": [
  {
   "cell_type": "markdown",
   "id": "cd5ccb70",
   "metadata": {},
   "source": [
    "# Controle de gastos"
   ]
  },
  {
   "cell_type": "markdown",
   "id": "754fef1a",
   "metadata": {},
   "source": [
    "## Tratamento dos dados"
   ]
  },
  {
   "cell_type": "code",
   "execution_count": 3,
   "id": "93253c3d",
   "metadata": {},
   "outputs": [
    {
     "data": {
      "text/plain": [
       "'Carregando o arquivo Excel de: E:\\\\Github\\\\finance-manager\\\\financas\\\\datasets\\\\Extrato_2024-01-01_a_2024-12-08_LIMPO.xlsx'"
      ]
     },
     "metadata": {},
     "output_type": "display_data"
    },
    {
     "data": {
      "text/plain": [
       "'Arquivo carregado com sucesso. Dimensões: 277 linhas, 5 colunas.'"
      ]
     },
     "metadata": {},
     "output_type": "display_data"
    },
    {
     "data": {
      "text/plain": [
       "'\\nExibindo as primeiras 5 linhas do dataset usando DuckDB:'"
      ]
     },
     "metadata": {},
     "output_type": "display_data"
    },
    {
     "data": {
      "text/html": [
       "<div>\n",
       "<style scoped>\n",
       "    .dataframe tbody tr th:only-of-type {\n",
       "        vertical-align: middle;\n",
       "    }\n",
       "\n",
       "    .dataframe tbody tr th {\n",
       "        vertical-align: top;\n",
       "    }\n",
       "\n",
       "    .dataframe thead th {\n",
       "        text-align: right;\n",
       "    }\n",
       "</style>\n",
       "<table border=\"1\" class=\"dataframe\">\n",
       "  <thead>\n",
       "    <tr style=\"text-align: right;\">\n",
       "      <th></th>\n",
       "      <th>Data e hora</th>\n",
       "      <th>Categoria</th>\n",
       "      <th>Transação</th>\n",
       "      <th>Descrição</th>\n",
       "      <th>Valor</th>\n",
       "    </tr>\n",
       "  </thead>\n",
       "  <tbody>\n",
       "    <tr>\n",
       "      <th>0</th>\n",
       "      <td>01/04/2024 11:04</td>\n",
       "      <td>Transferência</td>\n",
       "      <td>Pix recebido</td>\n",
       "      <td>Micaele Barbosa Leal</td>\n",
       "      <td>350.0</td>\n",
       "    </tr>\n",
       "    <tr>\n",
       "      <th>1</th>\n",
       "      <td>01/07/2024 11:24</td>\n",
       "      <td>Transferência</td>\n",
       "      <td>Pix recebido</td>\n",
       "      <td>Gislaine Miceno Pereira</td>\n",
       "      <td>12.0</td>\n",
       "    </tr>\n",
       "    <tr>\n",
       "      <th>2</th>\n",
       "      <td>01/08/2024 22:24</td>\n",
       "      <td>Transferência</td>\n",
       "      <td>Pix recebido</td>\n",
       "      <td>Gislaine Miceno Pereira</td>\n",
       "      <td>13.0</td>\n",
       "    </tr>\n",
       "    <tr>\n",
       "      <th>3</th>\n",
       "      <td>01/09/2024 08:12</td>\n",
       "      <td>Transferência</td>\n",
       "      <td>Pix recebido</td>\n",
       "      <td>Gislaine Miceno Pereira</td>\n",
       "      <td>13.0</td>\n",
       "    </tr>\n",
       "    <tr>\n",
       "      <th>4</th>\n",
       "      <td>01/10/2024 10:29</td>\n",
       "      <td>Investimentos</td>\n",
       "      <td>Transferência recebida</td>\n",
       "      <td>Gustavo Ferreira Lima</td>\n",
       "      <td>40.0</td>\n",
       "    </tr>\n",
       "  </tbody>\n",
       "</table>\n",
       "</div>"
      ],
      "text/plain": [
       "        Data e hora      Categoria               Transação  \\\n",
       "0  01/04/2024 11:04  Transferência            Pix recebido   \n",
       "1  01/07/2024 11:24  Transferência            Pix recebido   \n",
       "2  01/08/2024 22:24  Transferência            Pix recebido   \n",
       "3  01/09/2024 08:12  Transferência            Pix recebido   \n",
       "4  01/10/2024 10:29  Investimentos  Transferência recebida   \n",
       "\n",
       "                 Descrição  Valor  \n",
       "0     Micaele Barbosa Leal  350.0  \n",
       "1  Gislaine Miceno Pereira   12.0  \n",
       "2  Gislaine Miceno Pereira   13.0  \n",
       "3  Gislaine Miceno Pereira   13.0  \n",
       "4    Gustavo Ferreira Lima   40.0  "
      ]
     },
     "metadata": {},
     "output_type": "display_data"
    },
    {
     "data": {
      "text/plain": [
       "'\\nExibindo informações básicas do dataset usando DuckDB:'"
      ]
     },
     "metadata": {},
     "output_type": "display_data"
    },
    {
     "data": {
      "text/html": [
       "<div>\n",
       "<style scoped>\n",
       "    .dataframe tbody tr th:only-of-type {\n",
       "        vertical-align: middle;\n",
       "    }\n",
       "\n",
       "    .dataframe tbody tr th {\n",
       "        vertical-align: top;\n",
       "    }\n",
       "\n",
       "    .dataframe thead th {\n",
       "        text-align: right;\n",
       "    }\n",
       "</style>\n",
       "<table border=\"1\" class=\"dataframe\">\n",
       "  <thead>\n",
       "    <tr style=\"text-align: right;\">\n",
       "      <th></th>\n",
       "      <th>cid</th>\n",
       "      <th>name</th>\n",
       "      <th>type</th>\n",
       "      <th>notnull</th>\n",
       "      <th>dflt_value</th>\n",
       "      <th>pk</th>\n",
       "    </tr>\n",
       "  </thead>\n",
       "  <tbody>\n",
       "    <tr>\n",
       "      <th>0</th>\n",
       "      <td>0</td>\n",
       "      <td>Data e hora</td>\n",
       "      <td>VARCHAR</td>\n",
       "      <td>False</td>\n",
       "      <td>None</td>\n",
       "      <td>False</td>\n",
       "    </tr>\n",
       "    <tr>\n",
       "      <th>1</th>\n",
       "      <td>1</td>\n",
       "      <td>Categoria</td>\n",
       "      <td>VARCHAR</td>\n",
       "      <td>False</td>\n",
       "      <td>None</td>\n",
       "      <td>False</td>\n",
       "    </tr>\n",
       "    <tr>\n",
       "      <th>2</th>\n",
       "      <td>2</td>\n",
       "      <td>Transação</td>\n",
       "      <td>VARCHAR</td>\n",
       "      <td>False</td>\n",
       "      <td>None</td>\n",
       "      <td>False</td>\n",
       "    </tr>\n",
       "    <tr>\n",
       "      <th>3</th>\n",
       "      <td>3</td>\n",
       "      <td>Descrição</td>\n",
       "      <td>VARCHAR</td>\n",
       "      <td>False</td>\n",
       "      <td>None</td>\n",
       "      <td>False</td>\n",
       "    </tr>\n",
       "    <tr>\n",
       "      <th>4</th>\n",
       "      <td>4</td>\n",
       "      <td>Valor</td>\n",
       "      <td>DOUBLE</td>\n",
       "      <td>False</td>\n",
       "      <td>None</td>\n",
       "      <td>False</td>\n",
       "    </tr>\n",
       "  </tbody>\n",
       "</table>\n",
       "</div>"
      ],
      "text/plain": [
       "   cid         name     type  notnull dflt_value     pk\n",
       "0    0  Data e hora  VARCHAR    False       None  False\n",
       "1    1    Categoria  VARCHAR    False       None  False\n",
       "2    2    Transação  VARCHAR    False       None  False\n",
       "3    3    Descrição  VARCHAR    False       None  False\n",
       "4    4        Valor   DOUBLE    False       None  False"
      ]
     },
     "metadata": {},
     "output_type": "display_data"
    }
   ],
   "source": [
    "import duckdb\n",
    "\n",
    "def display_excel_with_duckdb(file_path: str):\n",
    "    \"\"\"\n",
    "    Carrega um arquivo Excel e o consulta usando uma conexão DuckDB persistente.\n",
    "\n",
    "    Args:\n",
    "        file_path (str): O caminho completo para o arquivo Excel.\n",
    "    \"\"\"\n",
    "    try:\n",
    "        # 1. Carregar o arquivo Excel para um DataFrame do Pandas\n",
    "        display(f\"Carregando o arquivo Excel de: {file_path}\")\n",
    "        df = pd.read_excel(file_path)\n",
    "        display(f\"Arquivo carregado com sucesso. Dimensões: {df.shape[0]} linhas, {df.shape[1]} colunas.\")\n",
    "\n",
    "        # 2. Criar uma conexão explícita com o DuckDB (em memória)\n",
    "        # O 'with' garante que a conexão seja fechada corretamente no final\n",
    "        with duckdb.connect(database=':memory:') as con:\n",
    "            # 3. Registrar o DataFrame como uma tabela virtual na conexão DuckDB.\n",
    "            # É uma boa prática dar um nome explícito à tabela.\n",
    "            con.register('extrato_df', df)\n",
    "\n",
    "            # 4. Executar as consultas usando a conexão\n",
    "            display(\"\\nExibindo as primeiras 5 linhas do dataset usando DuckDB:\")\n",
    "            result = con.execute(\"SELECT * FROM extrato_df LIMIT 5\").fetchdf()\n",
    "            display(result)\n",
    "\n",
    "            display(\"\\nExibindo informações básicas do dataset usando DuckDB:\")\n",
    "            # Agora esta consulta funcionará, pois 'extrato_df' está registrada na conexão 'con'\n",
    "            result_info = con.execute(\"PRAGMA table_info('extrato_df');\").fetchdf()\n",
    "            display(result_info)\n",
    "\n",
    "    except FileNotFoundError:\n",
    "        display(f\"Erro: O arquivo não foi encontrado no caminho especificado: {file_path}\")\n",
    "    except Exception as e:\n",
    "        display(f\"Ocorreu um erro ao processar o arquivo: {e}\")\n",
    "\n",
    "if __name__ == \"__main__\":\n",
    "    excel_file_path = r\"E:\\Github\\finance-manager\\financas\\datasets\\Extrato_2024-01-01_a_2024-12-08_LIMPO.xlsx\"\n",
    "    display_excel_with_duckdb(excel_file_path)\n",
    "\n"
   ]
  }
 ],
 "metadata": {
  "kernelspec": {
   "display_name": "Python 3",
   "language": "python",
   "name": "python3"
  },
  "language_info": {
   "codemirror_mode": {
    "name": "ipython",
    "version": 3
   },
   "file_extension": ".py",
   "mimetype": "text/x-python",
   "name": "python",
   "nbconvert_exporter": "python",
   "pygments_lexer": "ipython3",
   "version": "3.13.5"
  }
 },
 "nbformat": 4,
 "nbformat_minor": 5
}
