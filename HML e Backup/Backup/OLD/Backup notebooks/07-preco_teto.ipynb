{
 "cells": [
  {
   "cell_type": "markdown",
   "id": "53c30757",
   "metadata": {},
   "source": [
    "# Preço teto"
   ]
  },
  {
   "cell_type": "markdown",
   "id": "e95528b6",
   "metadata": {},
   "source": [
    "O código Python carrega dados de dois arquivos CSV, dividendos_ano_resumo.csv e preco_acoes.csv, e calcula o preço teto de ações com base nos dividendos. Ele adiciona o sufixo .SA aos tickers do primeiro arquivo para alinhá-los com o segundo, realiza um merge para combinar os dados, e calcula o preco_teto_5anos dividindo o valor_5anos por 5 e multiplicando por 100/6. Em seguida, computa a diferenca_percentual entre o preco_teto_5anos e o fechamento_atual, expressa em porcentagem, garantindo que valores nulos ou divisões por zero sejam tratados como NaN. O resultado, com as colunas ticker, preco_teto_5anos e diferenca_percentual, é salvo em um novo CSV chamado preco_teto.csv, e as cinco primeiras linhas são exibidas."
   ]
  },
  {
   "cell_type": "code",
   "execution_count": 7,
   "id": "993d1557",
   "metadata": {},
   "outputs": [
    {
     "name": "stdout",
     "output_type": "stream",
     "text": [
      "Arquivo 'preco_teto.csv' gerado com sucesso!\n",
      "      ticker  preco_teto_5anos  diferenca_percentual\n",
      "0   ABCB4.SA             23.01                  6.68\n",
      "1   AGRO3.SA             42.15                107.23\n",
      "2   ALOS3.SA             10.48                -53.07\n",
      "3  ALUP11.SA             17.70                -39.11\n",
      "4   ALUP3.SA              5.90                -42.83\n"
     ]
    }
   ],
   "source": [
    "import pandas as pd\n",
    "\n",
    "# Definir a porcentagem de dividendo para cálculo do preço teto\n",
    "dividendo_porcentagem = 100 / 6\n",
    "\n",
    "# Carregar os dados dos CSVs\n",
    "resumo = pd.read_csv(\"../data/dividendos_ano_resumo.csv\")\n",
    "preco_acoes = pd.read_csv(\"../data/precos_acoes.csv\")\n",
    "\n",
    "# Adicionar o sufixo .SA aos tickers de dividendos_ano_resumo.csv\n",
    "resumo['ticker'] = resumo['ticker'] + '.SA'\n",
    "\n",
    "# Fazer o merge dos dados com base no ticker\n",
    "dados = resumo.merge(preco_acoes, on='ticker', how='left')\n",
    "\n",
    "# Calcular o preço teto\n",
    "# Preço teto 5 anos = (valor_5anos / 5) * dividendo_porcentagem\n",
    "dados['preco_teto_5anos'] = ((dados['valor_5anos'] / 5) * dividendo_porcentagem).round(2)\n",
    "\n",
    "# Calcular a diferença percentual: ((preco_teto_5anos - fechamento_atual) / fechamento_atual) * 100\n",
    "# Evitar divisão por zero e lidar com NaN\n",
    "dados['diferenca_percentual'] = dados.apply(\n",
    "    lambda row: round(((row['preco_teto_5anos'] - row['fechamento_atual']) / row['fechamento_atual'] * 100), 2)\n",
    "    if pd.notnull(row['preco_teto_5anos']) and pd.notnull(row['fechamento_atual']) and row['fechamento_atual'] != 0\n",
    "    else float('nan'),\n",
    "    axis=1\n",
    ")\n",
    "\n",
    "# Selecionar apenas as colunas necessárias\n",
    "resultado = dados[['ticker', 'preco_teto_5anos', 'diferenca_percentual']]\n",
    "\n",
    "# Salvar o resultado em um novo CSV\n",
    "resultado.to_csv('../data/preco_teto.csv', index=False)\n",
    "print(\"Arquivo 'preco_teto.csv' gerado com sucesso!\")\n",
    "\n",
    "# Mostrar as 5 primeiras linhas do resultado\n",
    "print(resultado.head(5))"
   ]
  }
 ],
 "metadata": {
  "kernelspec": {
   "display_name": "Python 3",
   "language": "python",
   "name": "python3"
  },
  "language_info": {
   "codemirror_mode": {
    "name": "ipython",
    "version": 3
   },
   "file_extension": ".py",
   "mimetype": "text/x-python",
   "name": "python",
   "nbconvert_exporter": "python",
   "pygments_lexer": "ipython3",
   "version": "3.13.6"
  }
 },
 "nbformat": 4,
 "nbformat_minor": 5
}
